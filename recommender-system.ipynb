{
 "cells": [
  {
   "cell_type": "markdown",
   "metadata": {},
   "source": [
    "# Recommender Sytem with LLMs and Weaviate"
   ]
  },
  {
   "cell_type": "markdown",
   "metadata": {},
   "source": [
    "## 1. Install the requirements"
   ]
  },
  {
   "cell_type": "code",
   "execution_count": 1,
   "metadata": {},
   "outputs": [
    {
     "name": "stdout",
     "output_type": "stream",
     "text": [
      "Requirement already satisfied: openai in c:\\users\\almud\\appdata\\local\\programs\\python\\python310\\lib\\site-packages (from -r requirements.txt (line 1)) (1.12.0)\n",
      "Requirement already satisfied: weaviate-client in c:\\users\\almud\\appdata\\local\\programs\\python\\python310\\lib\\site-packages (from -r requirements.txt (line 2)) (4.7.1)\n",
      "Requirement already satisfied: pandas in c:\\users\\almud\\appdata\\local\\programs\\python\\python310\\lib\\site-packages (from -r requirements.txt (line 3)) (2.2.2)\n",
      "Requirement already satisfied: python-dotenv in c:\\users\\almud\\appdata\\local\\programs\\python\\python310\\lib\\site-packages (from -r requirements.txt (line 4)) (1.0.1)\n",
      "Requirement already satisfied: anyio<5,>=3.5.0 in c:\\users\\almud\\appdata\\local\\programs\\python\\python310\\lib\\site-packages (from openai->-r requirements.txt (line 1)) (4.4.0)\n",
      "Requirement already satisfied: distro<2,>=1.7.0 in c:\\users\\almud\\appdata\\local\\programs\\python\\python310\\lib\\site-packages (from openai->-r requirements.txt (line 1)) (1.9.0)\n",
      "Requirement already satisfied: httpx<1,>=0.23.0 in c:\\users\\almud\\appdata\\local\\programs\\python\\python310\\lib\\site-packages (from openai->-r requirements.txt (line 1)) (0.27.0)\n",
      "Requirement already satisfied: pydantic<3,>=1.9.0 in c:\\users\\almud\\appdata\\local\\programs\\python\\python310\\lib\\site-packages (from openai->-r requirements.txt (line 1)) (2.7.4)\n",
      "Requirement already satisfied: sniffio in c:\\users\\almud\\appdata\\local\\programs\\python\\python310\\lib\\site-packages (from openai->-r requirements.txt (line 1)) (1.3.1)\n",
      "Requirement already satisfied: tqdm>4 in c:\\users\\almud\\appdata\\local\\programs\\python\\python310\\lib\\site-packages (from openai->-r requirements.txt (line 1)) (4.66.4)\n",
      "Requirement already satisfied: typing-extensions<5,>=4.7 in c:\\users\\almud\\appdata\\local\\programs\\python\\python310\\lib\\site-packages (from openai->-r requirements.txt (line 1)) (4.10.0)\n",
      "Requirement already satisfied: requests<3.0.0,>=2.30.0 in c:\\users\\almud\\appdata\\local\\programs\\python\\python310\\lib\\site-packages (from weaviate-client->-r requirements.txt (line 2)) (2.31.0)\n",
      "Requirement already satisfied: validators==0.33.0 in c:\\users\\almud\\appdata\\local\\programs\\python\\python310\\lib\\site-packages (from weaviate-client->-r requirements.txt (line 2)) (0.33.0)\n",
      "Requirement already satisfied: authlib<2.0.0,>=1.2.1 in c:\\users\\almud\\appdata\\local\\programs\\python\\python310\\lib\\site-packages (from weaviate-client->-r requirements.txt (line 2)) (1.3.2)\n",
      "Requirement already satisfied: grpcio<2.0.0,>=1.57.0 in c:\\users\\almud\\appdata\\local\\programs\\python\\python310\\lib\\site-packages (from weaviate-client->-r requirements.txt (line 2)) (1.66.1)\n",
      "Requirement already satisfied: grpcio-tools<2.0.0,>=1.57.0 in c:\\users\\almud\\appdata\\local\\programs\\python\\python310\\lib\\site-packages (from weaviate-client->-r requirements.txt (line 2)) (1.66.1)\n",
      "Requirement already satisfied: grpcio-health-checking<2.0.0,>=1.57.0 in c:\\users\\almud\\appdata\\local\\programs\\python\\python310\\lib\\site-packages (from weaviate-client->-r requirements.txt (line 2)) (1.66.1)\n",
      "Requirement already satisfied: numpy>=1.22.4 in c:\\users\\almud\\appdata\\local\\programs\\python\\python310\\lib\\site-packages (from pandas->-r requirements.txt (line 3)) (1.26.4)\n",
      "Requirement already satisfied: python-dateutil>=2.8.2 in c:\\users\\almud\\appdata\\roaming\\python\\python310\\site-packages (from pandas->-r requirements.txt (line 3)) (2.9.0.post0)\n",
      "Requirement already satisfied: pytz>=2020.1 in c:\\users\\almud\\appdata\\local\\programs\\python\\python310\\lib\\site-packages (from pandas->-r requirements.txt (line 3)) (2024.1)\n",
      "Requirement already satisfied: tzdata>=2022.7 in c:\\users\\almud\\appdata\\local\\programs\\python\\python310\\lib\\site-packages (from pandas->-r requirements.txt (line 3)) (2024.1)\n",
      "Requirement already satisfied: idna>=2.8 in c:\\users\\almud\\appdata\\local\\programs\\python\\python310\\lib\\site-packages (from anyio<5,>=3.5.0->openai->-r requirements.txt (line 1)) (3.6)\n",
      "Requirement already satisfied: exceptiongroup>=1.0.2 in c:\\users\\almud\\appdata\\roaming\\python\\python310\\site-packages (from anyio<5,>=3.5.0->openai->-r requirements.txt (line 1)) (1.2.1)\n",
      "Requirement already satisfied: cryptography in c:\\users\\almud\\appdata\\local\\programs\\python\\python310\\lib\\site-packages (from authlib<2.0.0,>=1.2.1->weaviate-client->-r requirements.txt (line 2)) (42.0.5)\n",
      "Requirement already satisfied: protobuf<6.0dev,>=5.26.1 in c:\\users\\almud\\appdata\\local\\programs\\python\\python310\\lib\\site-packages (from grpcio-health-checking<2.0.0,>=1.57.0->weaviate-client->-r requirements.txt (line 2)) (5.28.0)\n",
      "Requirement already satisfied: setuptools in c:\\users\\almud\\appdata\\local\\programs\\python\\python310\\lib\\site-packages (from grpcio-tools<2.0.0,>=1.57.0->weaviate-client->-r requirements.txt (line 2)) (65.5.0)\n",
      "Requirement already satisfied: certifi in c:\\users\\almud\\appdata\\local\\programs\\python\\python310\\lib\\site-packages (from httpx<1,>=0.23.0->openai->-r requirements.txt (line 1)) (2024.2.2)\n",
      "Requirement already satisfied: httpcore==1.* in c:\\users\\almud\\appdata\\local\\programs\\python\\python310\\lib\\site-packages (from httpx<1,>=0.23.0->openai->-r requirements.txt (line 1)) (1.0.5)\n",
      "Requirement already satisfied: h11<0.15,>=0.13 in c:\\users\\almud\\appdata\\local\\programs\\python\\python310\\lib\\site-packages (from httpcore==1.*->httpx<1,>=0.23.0->openai->-r requirements.txt (line 1)) (0.14.0)\n",
      "Requirement already satisfied: annotated-types>=0.4.0 in c:\\users\\almud\\appdata\\local\\programs\\python\\python310\\lib\\site-packages (from pydantic<3,>=1.9.0->openai->-r requirements.txt (line 1)) (0.7.0)\n",
      "Requirement already satisfied: pydantic-core==2.18.4 in c:\\users\\almud\\appdata\\local\\programs\\python\\python310\\lib\\site-packages (from pydantic<3,>=1.9.0->openai->-r requirements.txt (line 1)) (2.18.4)\n",
      "Requirement already satisfied: six>=1.5 in c:\\users\\almud\\appdata\\roaming\\python\\python310\\site-packages (from python-dateutil>=2.8.2->pandas->-r requirements.txt (line 3)) (1.16.0)\n",
      "Requirement already satisfied: charset-normalizer<4,>=2 in c:\\users\\almud\\appdata\\local\\programs\\python\\python310\\lib\\site-packages (from requests<3.0.0,>=2.30.0->weaviate-client->-r requirements.txt (line 2)) (3.3.2)\n",
      "Requirement already satisfied: urllib3<3,>=1.21.1 in c:\\users\\almud\\appdata\\local\\programs\\python\\python310\\lib\\site-packages (from requests<3.0.0,>=2.30.0->weaviate-client->-r requirements.txt (line 2)) (2.2.1)\n",
      "Requirement already satisfied: colorama in c:\\users\\almud\\appdata\\roaming\\python\\python310\\site-packages (from tqdm>4->openai->-r requirements.txt (line 1)) (0.4.6)\n",
      "Requirement already satisfied: cffi>=1.12 in c:\\users\\almud\\appdata\\local\\programs\\python\\python310\\lib\\site-packages (from cryptography->authlib<2.0.0,>=1.2.1->weaviate-client->-r requirements.txt (line 2)) (1.16.0)\n",
      "Requirement already satisfied: pycparser in c:\\users\\almud\\appdata\\local\\programs\\python\\python310\\lib\\site-packages (from cffi>=1.12->cryptography->authlib<2.0.0,>=1.2.1->weaviate-client->-r requirements.txt (line 2)) (2.21)\n",
      "Note: you may need to restart the kernel to use updated packages.\n"
     ]
    }
   ],
   "source": [
    "%pip install -r requirements.txt"
   ]
  },
  {
   "cell_type": "code",
   "execution_count": 2,
   "metadata": {},
   "outputs": [
    {
     "name": "stdout",
     "output_type": "stream",
     "text": [
      "Requirement already satisfied: pip in c:\\users\\almud\\appdata\\local\\programs\\python\\python310\\lib\\site-packages (24.2)\n",
      "Note: you may need to restart the kernel to use updated packages.\n"
     ]
    }
   ],
   "source": [
    "%pip install --upgrade pip"
   ]
  },
  {
   "cell_type": "markdown",
   "metadata": {},
   "source": [
    "## 2. Import the required dependencies"
   ]
  },
  {
   "cell_type": "code",
   "execution_count": 3,
   "metadata": {},
   "outputs": [
    {
     "name": "stderr",
     "output_type": "stream",
     "text": [
      "c:\\Users\\almud\\AppData\\Local\\Programs\\Python\\Python310\\lib\\site-packages\\google\\protobuf\\runtime_version.py:112: UserWarning: Protobuf gencode version 5.27.2 is older than the runtime version 5.28.0 at grpc_health/v1/health.proto. Please avoid checked-in Protobuf gencode that can be obsolete.\n",
      "  warnings.warn(\n"
     ]
    },
    {
     "name": "stdout",
     "output_type": "stream",
     "text": [
      "Weaviate client library version: 4.7.1.\n",
      "Openai version: 1.12.0.\n"
     ]
    }
   ],
   "source": [
    "import weaviate\n",
    "import openai\n",
    "import pandas as pd\n",
    "from tqdm import tqdm\n",
    "print(f\"Weaviate client library version: {weaviate.__version__}.\")\n",
    "print(f\"Openai version: {openai.__version__}.\")"
   ]
  },
  {
   "cell_type": "markdown",
   "metadata": {},
   "source": [
    "## 3. OpenAI setup"
   ]
  },
  {
   "cell_type": "code",
   "execution_count": 4,
   "metadata": {},
   "outputs": [],
   "source": [
    "# Load the env variable(s)\n",
    "import os\n",
    "\n",
    "from dotenv import load_dotenv\n",
    "\n",
    "load_dotenv()  # take environment variables from .env.\n",
    "\n",
    "api_key = os.environ.get(\"OPENAI_API_KEY\")\n",
    "\n",
    "#print(\"OpenAI API key: \", api_key)"
   ]
  },
  {
   "cell_type": "code",
   "execution_count": 5,
   "metadata": {},
   "outputs": [],
   "source": [
    "# setting the openai client:\n",
    "from openai import OpenAI\n",
    "chat_client = OpenAI()\n",
    "\n"
   ]
  },
  {
   "cell_type": "markdown",
   "metadata": {},
   "source": [
    "## 4. Weaviate Setup"
   ]
  },
  {
   "cell_type": "markdown",
   "metadata": {},
   "source": [
    "1. Go to `console.weaviate.com` login or sign-up\n",
    "2. Go to the Dashboard in the WCD Console and click on the `Create cluster` button.\n",
    "3. Enter the name of the `Sandbox` and click `Create`.\n",
    "4. The instance creation process will take a few minutes. After success, it will be displayed. `Click on the dropdown` to get all the information.\n"
   ]
  },
  {
   "cell_type": "code",
   "execution_count": 6,
   "metadata": {},
   "outputs": [],
   "source": [
    "# Get the .env Variables\n",
    "\n",
    "WEAVIATE_URL = os.environ.get(\"WCS_URL\")\n",
    "WEAVIATE_API_KEY = os.environ.get(\"WCS_API_KEY\")\n",
    "\n",
    "# print(\"weaviate url: \", WEAVIATE_URL)\n",
    "# print(\"weaviate api key: \", WEAVIATE_API_KEY)"
   ]
  },
  {
   "cell_type": "code",
   "execution_count": 7,
   "metadata": {},
   "outputs": [],
   "source": [
    "# Weavite config\n",
    "\n",
    "headers = {\n",
    " \"Content-Type\": \"application/json\",\n",
    " \"X-OpenAI-Api-Key\": os.getenv(\"OPENAI_API_KEY\")\n",
    "}\n",
    "\n",
    "# Connect to a WCS instance\n",
    "client = weaviate.connect_to_wcs(cluster_url=WEAVIATE_URL, auth_credentials=weaviate.auth.AuthApiKey(WEAVIATE_API_KEY), headers=headers)"
   ]
  },
  {
   "cell_type": "code",
   "execution_count": 8,
   "metadata": {},
   "outputs": [],
   "source": [
    "# Verify that the Weaviate instance is running using the is_live function.\n",
    "assert client.is_live()\n"
   ]
  },
  {
   "cell_type": "markdown",
   "metadata": {},
   "source": [
    "## 5. Dataset Processing"
   ]
  },
  {
   "cell_type": "markdown",
   "metadata": {},
   "source": [
    "### 5.1 Introduction to Dataset"
   ]
  },
  {
   "cell_type": "markdown",
   "metadata": {},
   "source": [
    "The Amazon Product Sales Dataset is a collection of product data scraped from the Amazon website and organized into 142 categories. The dataset was taken from Kaggle. This dataset includes key features such as product names, categories, images, links, ratings, and prices, making it a valuable resource, as shown below."
   ]
  },
  {
   "cell_type": "markdown",
   "metadata": {},
   "source": [
    "Since there are 142 collections, the entire dataset is consolidated into Amazon-Product.csv. We will use this dataset for our recommendation system."
   ]
  },
  {
   "cell_type": "code",
   "execution_count": 9,
   "metadata": {},
   "outputs": [
    {
     "data": {
      "text/html": [
       "<div>\n",
       "<style scoped>\n",
       "    .dataframe tbody tr th:only-of-type {\n",
       "        vertical-align: middle;\n",
       "    }\n",
       "\n",
       "    .dataframe tbody tr th {\n",
       "        vertical-align: top;\n",
       "    }\n",
       "\n",
       "    .dataframe thead th {\n",
       "        text-align: right;\n",
       "    }\n",
       "</style>\n",
       "<table border=\"1\" class=\"dataframe\">\n",
       "  <thead>\n",
       "    <tr style=\"text-align: right;\">\n",
       "      <th></th>\n",
       "      <th>Unnamed: 0</th>\n",
       "      <th>name</th>\n",
       "      <th>main_category</th>\n",
       "      <th>sub_category</th>\n",
       "      <th>image</th>\n",
       "      <th>link</th>\n",
       "      <th>ratings</th>\n",
       "      <th>no_of_ratings</th>\n",
       "      <th>discount_price</th>\n",
       "      <th>actual_price</th>\n",
       "    </tr>\n",
       "  </thead>\n",
       "  <tbody>\n",
       "    <tr>\n",
       "      <th>0</th>\n",
       "      <td>0</td>\n",
       "      <td>Lloyd 1.5 Ton 3 Star Inverter Split Ac (5 In 1...</td>\n",
       "      <td>appliances</td>\n",
       "      <td>Air Conditioners</td>\n",
       "      <td>https://m.media-amazon.com/images/I/31UISB90sY...</td>\n",
       "      <td>https://www.amazon.in/Lloyd-Inverter-Convertib...</td>\n",
       "      <td>4.2</td>\n",
       "      <td>2,255</td>\n",
       "      <td>₹32,999</td>\n",
       "      <td>₹58,990</td>\n",
       "    </tr>\n",
       "    <tr>\n",
       "      <th>1</th>\n",
       "      <td>1</td>\n",
       "      <td>LG 1.5 Ton 5 Star AI DUAL Inverter Split AC (C...</td>\n",
       "      <td>appliances</td>\n",
       "      <td>Air Conditioners</td>\n",
       "      <td>https://m.media-amazon.com/images/I/51JFb7FctD...</td>\n",
       "      <td>https://www.amazon.in/LG-Convertible-Anti-Viru...</td>\n",
       "      <td>4.2</td>\n",
       "      <td>2,948</td>\n",
       "      <td>₹46,490</td>\n",
       "      <td>₹75,990</td>\n",
       "    </tr>\n",
       "    <tr>\n",
       "      <th>2</th>\n",
       "      <td>2</td>\n",
       "      <td>LG 1 Ton 4 Star Ai Dual Inverter Split Ac (Cop...</td>\n",
       "      <td>appliances</td>\n",
       "      <td>Air Conditioners</td>\n",
       "      <td>https://m.media-amazon.com/images/I/51JFb7FctD...</td>\n",
       "      <td>https://www.amazon.in/LG-Inverter-Convertible-...</td>\n",
       "      <td>4.2</td>\n",
       "      <td>1,206</td>\n",
       "      <td>₹34,490</td>\n",
       "      <td>₹61,990</td>\n",
       "    </tr>\n",
       "    <tr>\n",
       "      <th>3</th>\n",
       "      <td>3</td>\n",
       "      <td>LG 1.5 Ton 3 Star AI DUAL Inverter Split AC (C...</td>\n",
       "      <td>appliances</td>\n",
       "      <td>Air Conditioners</td>\n",
       "      <td>https://m.media-amazon.com/images/I/51JFb7FctD...</td>\n",
       "      <td>https://www.amazon.in/LG-Convertible-Anti-Viru...</td>\n",
       "      <td>4.0</td>\n",
       "      <td>69</td>\n",
       "      <td>₹37,990</td>\n",
       "      <td>₹68,990</td>\n",
       "    </tr>\n",
       "    <tr>\n",
       "      <th>4</th>\n",
       "      <td>4</td>\n",
       "      <td>Carrier 1.5 Ton 3 Star Inverter Split AC (Copp...</td>\n",
       "      <td>appliances</td>\n",
       "      <td>Air Conditioners</td>\n",
       "      <td>https://m.media-amazon.com/images/I/41lrtqXPiW...</td>\n",
       "      <td>https://www.amazon.in/Carrier-Inverter-Split-C...</td>\n",
       "      <td>4.1</td>\n",
       "      <td>630</td>\n",
       "      <td>₹34,490</td>\n",
       "      <td>₹67,790</td>\n",
       "    </tr>\n",
       "  </tbody>\n",
       "</table>\n",
       "</div>"
      ],
      "text/plain": [
       "   Unnamed: 0                                               name  \\\n",
       "0           0  Lloyd 1.5 Ton 3 Star Inverter Split Ac (5 In 1...   \n",
       "1           1  LG 1.5 Ton 5 Star AI DUAL Inverter Split AC (C...   \n",
       "2           2  LG 1 Ton 4 Star Ai Dual Inverter Split Ac (Cop...   \n",
       "3           3  LG 1.5 Ton 3 Star AI DUAL Inverter Split AC (C...   \n",
       "4           4  Carrier 1.5 Ton 3 Star Inverter Split AC (Copp...   \n",
       "\n",
       "  main_category      sub_category  \\\n",
       "0    appliances  Air Conditioners   \n",
       "1    appliances  Air Conditioners   \n",
       "2    appliances  Air Conditioners   \n",
       "3    appliances  Air Conditioners   \n",
       "4    appliances  Air Conditioners   \n",
       "\n",
       "                                               image  \\\n",
       "0  https://m.media-amazon.com/images/I/31UISB90sY...   \n",
       "1  https://m.media-amazon.com/images/I/51JFb7FctD...   \n",
       "2  https://m.media-amazon.com/images/I/51JFb7FctD...   \n",
       "3  https://m.media-amazon.com/images/I/51JFb7FctD...   \n",
       "4  https://m.media-amazon.com/images/I/41lrtqXPiW...   \n",
       "\n",
       "                                                link ratings no_of_ratings  \\\n",
       "0  https://www.amazon.in/Lloyd-Inverter-Convertib...     4.2         2,255   \n",
       "1  https://www.amazon.in/LG-Convertible-Anti-Viru...     4.2         2,948   \n",
       "2  https://www.amazon.in/LG-Inverter-Convertible-...     4.2         1,206   \n",
       "3  https://www.amazon.in/LG-Convertible-Anti-Viru...     4.0            69   \n",
       "4  https://www.amazon.in/Carrier-Inverter-Split-C...     4.1           630   \n",
       "\n",
       "  discount_price actual_price  \n",
       "0        ₹32,999      ₹58,990  \n",
       "1        ₹46,490      ₹75,990  \n",
       "2        ₹34,490      ₹61,990  \n",
       "3        ₹37,990      ₹68,990  \n",
       "4        ₹34,490      ₹67,790  "
      ]
     },
     "execution_count": 9,
     "metadata": {},
     "output_type": "execute_result"
    }
   ],
   "source": [
    "# Load the dataset\n",
    "file_path = 'dataset\\\\Amazon-Products.csv'\n",
    "dataset = pd.read_csv(file_path)\n",
    "# Display the first few rows of the dataset\n",
    "dataset.head()"
   ]
  },
  {
   "cell_type": "markdown",
   "metadata": {},
   "source": [
    "### 5.2 Dataset cleaning"
   ]
  },
  {
   "cell_type": "code",
   "execution_count": 10,
   "metadata": {},
   "outputs": [
    {
     "name": "stdout",
     "output_type": "stream",
     "text": [
      "\n",
      "Uncleaned DataFrame Rows: 551585\n",
      "\n",
      "All of the Duplicated Rows: 0\n",
      "\n",
      "All of the N/A Rows: Unnamed: 0             0\n",
      "name                   0\n",
      "main_category          0\n",
      "sub_category           0\n",
      "image                  0\n",
      "link                   0\n",
      "ratings           175794\n",
      "no_of_ratings     175794\n",
      "discount_price     61163\n",
      "actual_price       17813\n",
      "dtype: int64\n"
     ]
    }
   ],
   "source": [
    "# Check for the missing and duplicates\n",
    "print(f\"\\nUncleaned DataFrame Rows: {dataset.shape[0]}\")\n",
    "print(f\"\\nAll of the Duplicated Rows: {dataset.duplicated().sum()}\" ) \n",
    "print(f\"\\nAll of the N/A Rows: {dataset.isna().sum()}\" )"
   ]
  },
  {
   "cell_type": "code",
   "execution_count": 11,
   "metadata": {},
   "outputs": [
    {
     "name": "stdout",
     "output_type": "stream",
     "text": [
      "\n",
      "Cleaned DataFrame Rows: 340680\n"
     ]
    }
   ],
   "source": [
    "# 1. Handling missing values\n",
    "df_cleaned = dataset.dropna() # Drop rows with any NaN values\n",
    "# 2. Removing duplicates\n",
    "#df_cleaned = df_cleaned.drop_duplicates()\n",
    "# Display the cleaned DataFrame\n",
    "print(f\"\\nCleaned DataFrame Rows: {df_cleaned.shape[0]}\")"
   ]
  },
  {
   "cell_type": "code",
   "execution_count": 12,
   "metadata": {},
   "outputs": [
    {
     "name": "stderr",
     "output_type": "stream",
     "text": [
      "C:\\Users\\almud\\AppData\\Local\\Temp\\ipykernel_8556\\2870720850.py:10: SettingWithCopyWarning: \n",
      "A value is trying to be set on a copy of a slice from a DataFrame.\n",
      "Try using .loc[row_indexer,col_indexer] = value instead\n",
      "\n",
      "See the caveats in the documentation: https://pandas.pydata.org/pandas-docs/stable/user_guide/indexing.html#returning-a-view-versus-a-copy\n",
      "  df_cleaned['actual_price'] = df_cleaned['actual_price'].apply(conversion)\n",
      "C:\\Users\\almud\\AppData\\Local\\Temp\\ipykernel_8556\\2870720850.py:11: SettingWithCopyWarning: \n",
      "A value is trying to be set on a copy of a slice from a DataFrame.\n",
      "Try using .loc[row_indexer,col_indexer] = value instead\n",
      "\n",
      "See the caveats in the documentation: https://pandas.pydata.org/pandas-docs/stable/user_guide/indexing.html#returning-a-view-versus-a-copy\n",
      "  df_cleaned['discount_price'] = df_cleaned['discount_price'].apply(conversion)\n"
     ]
    },
    {
     "data": {
      "text/html": [
       "<div>\n",
       "<style scoped>\n",
       "    .dataframe tbody tr th:only-of-type {\n",
       "        vertical-align: middle;\n",
       "    }\n",
       "\n",
       "    .dataframe tbody tr th {\n",
       "        vertical-align: top;\n",
       "    }\n",
       "\n",
       "    .dataframe thead th {\n",
       "        text-align: right;\n",
       "    }\n",
       "</style>\n",
       "<table border=\"1\" class=\"dataframe\">\n",
       "  <thead>\n",
       "    <tr style=\"text-align: right;\">\n",
       "      <th></th>\n",
       "      <th>Unnamed: 0</th>\n",
       "      <th>name</th>\n",
       "      <th>main_category</th>\n",
       "      <th>sub_category</th>\n",
       "      <th>image</th>\n",
       "      <th>link</th>\n",
       "      <th>ratings</th>\n",
       "      <th>no_of_ratings</th>\n",
       "      <th>discount_price</th>\n",
       "      <th>actual_price</th>\n",
       "    </tr>\n",
       "  </thead>\n",
       "  <tbody>\n",
       "    <tr>\n",
       "      <th>0</th>\n",
       "      <td>0</td>\n",
       "      <td>Lloyd 1.5 Ton 3 Star Inverter Split Ac (5 In 1...</td>\n",
       "      <td>appliances</td>\n",
       "      <td>Air Conditioners</td>\n",
       "      <td>https://m.media-amazon.com/images/I/31UISB90sY...</td>\n",
       "      <td>https://www.amazon.in/Lloyd-Inverter-Convertib...</td>\n",
       "      <td>4.2</td>\n",
       "      <td>2,255</td>\n",
       "      <td>$392.85</td>\n",
       "      <td>$702.26</td>\n",
       "    </tr>\n",
       "    <tr>\n",
       "      <th>1</th>\n",
       "      <td>1</td>\n",
       "      <td>LG 1.5 Ton 5 Star AI DUAL Inverter Split AC (C...</td>\n",
       "      <td>appliances</td>\n",
       "      <td>Air Conditioners</td>\n",
       "      <td>https://m.media-amazon.com/images/I/51JFb7FctD...</td>\n",
       "      <td>https://www.amazon.in/LG-Convertible-Anti-Viru...</td>\n",
       "      <td>4.2</td>\n",
       "      <td>2,948</td>\n",
       "      <td>$553.45</td>\n",
       "      <td>$904.64</td>\n",
       "    </tr>\n",
       "    <tr>\n",
       "      <th>2</th>\n",
       "      <td>2</td>\n",
       "      <td>LG 1 Ton 4 Star Ai Dual Inverter Split Ac (Cop...</td>\n",
       "      <td>appliances</td>\n",
       "      <td>Air Conditioners</td>\n",
       "      <td>https://m.media-amazon.com/images/I/51JFb7FctD...</td>\n",
       "      <td>https://www.amazon.in/LG-Inverter-Convertible-...</td>\n",
       "      <td>4.2</td>\n",
       "      <td>1,206</td>\n",
       "      <td>$410.60</td>\n",
       "      <td>$737.98</td>\n",
       "    </tr>\n",
       "    <tr>\n",
       "      <th>3</th>\n",
       "      <td>3</td>\n",
       "      <td>LG 1.5 Ton 3 Star AI DUAL Inverter Split AC (C...</td>\n",
       "      <td>appliances</td>\n",
       "      <td>Air Conditioners</td>\n",
       "      <td>https://m.media-amazon.com/images/I/51JFb7FctD...</td>\n",
       "      <td>https://www.amazon.in/LG-Convertible-Anti-Viru...</td>\n",
       "      <td>4.0</td>\n",
       "      <td>69</td>\n",
       "      <td>$452.26</td>\n",
       "      <td>$821.31</td>\n",
       "    </tr>\n",
       "    <tr>\n",
       "      <th>4</th>\n",
       "      <td>4</td>\n",
       "      <td>Carrier 1.5 Ton 3 Star Inverter Split AC (Copp...</td>\n",
       "      <td>appliances</td>\n",
       "      <td>Air Conditioners</td>\n",
       "      <td>https://m.media-amazon.com/images/I/41lrtqXPiW...</td>\n",
       "      <td>https://www.amazon.in/Carrier-Inverter-Split-C...</td>\n",
       "      <td>4.1</td>\n",
       "      <td>630</td>\n",
       "      <td>$410.60</td>\n",
       "      <td>$807.02</td>\n",
       "    </tr>\n",
       "  </tbody>\n",
       "</table>\n",
       "</div>"
      ],
      "text/plain": [
       "   Unnamed: 0                                               name  \\\n",
       "0           0  Lloyd 1.5 Ton 3 Star Inverter Split Ac (5 In 1...   \n",
       "1           1  LG 1.5 Ton 5 Star AI DUAL Inverter Split AC (C...   \n",
       "2           2  LG 1 Ton 4 Star Ai Dual Inverter Split Ac (Cop...   \n",
       "3           3  LG 1.5 Ton 3 Star AI DUAL Inverter Split AC (C...   \n",
       "4           4  Carrier 1.5 Ton 3 Star Inverter Split AC (Copp...   \n",
       "\n",
       "  main_category      sub_category  \\\n",
       "0    appliances  Air Conditioners   \n",
       "1    appliances  Air Conditioners   \n",
       "2    appliances  Air Conditioners   \n",
       "3    appliances  Air Conditioners   \n",
       "4    appliances  Air Conditioners   \n",
       "\n",
       "                                               image  \\\n",
       "0  https://m.media-amazon.com/images/I/31UISB90sY...   \n",
       "1  https://m.media-amazon.com/images/I/51JFb7FctD...   \n",
       "2  https://m.media-amazon.com/images/I/51JFb7FctD...   \n",
       "3  https://m.media-amazon.com/images/I/51JFb7FctD...   \n",
       "4  https://m.media-amazon.com/images/I/41lrtqXPiW...   \n",
       "\n",
       "                                                link ratings no_of_ratings  \\\n",
       "0  https://www.amazon.in/Lloyd-Inverter-Convertib...     4.2         2,255   \n",
       "1  https://www.amazon.in/LG-Convertible-Anti-Viru...     4.2         2,948   \n",
       "2  https://www.amazon.in/LG-Inverter-Convertible-...     4.2         1,206   \n",
       "3  https://www.amazon.in/LG-Convertible-Anti-Viru...     4.0            69   \n",
       "4  https://www.amazon.in/Carrier-Inverter-Split-C...     4.1           630   \n",
       "\n",
       "  discount_price actual_price  \n",
       "0        $392.85      $702.26  \n",
       "1        $553.45      $904.64  \n",
       "2        $410.60      $737.98  \n",
       "3        $452.26      $821.31  \n",
       "4        $410.60      $807.02  "
      ]
     },
     "execution_count": 12,
     "metadata": {},
     "output_type": "execute_result"
    }
   ],
   "source": [
    "def conversion(amount, exchange_rate=84):\n",
    " \"\"\"\n",
    " Convert INR to USD.\n",
    " Returns:\n",
    " float: Amount in US Dollars ($).\n",
    " \"\"\"\n",
    " amount_in_inr = float(amount.replace('₹', '').replace(',', ''))\n",
    " amount_in_usd = (amount_in_inr / exchange_rate)\n",
    " return f\"${amount_in_usd:.2f}\"\n",
    "df_cleaned['actual_price'] = df_cleaned['actual_price'].apply(conversion)\n",
    "df_cleaned['discount_price'] = df_cleaned['discount_price'].apply(conversion)\n",
    "df_cleaned.head()"
   ]
  },
  {
   "cell_type": "code",
   "execution_count": 13,
   "metadata": {},
   "outputs": [
    {
     "name": "stderr",
     "output_type": "stream",
     "text": [
      "C:\\Users\\almud\\AppData\\Local\\Temp\\ipykernel_8556\\3067807385.py:5: SettingWithCopyWarning: \n",
      "A value is trying to be set on a copy of a slice from a DataFrame.\n",
      "Try using .loc[row_indexer,col_indexer] = value instead\n",
      "\n",
      "See the caveats in the documentation: https://pandas.pydata.org/pandas-docs/stable/user_guide/indexing.html#returning-a-view-versus-a-copy\n",
      "  df_cleaned['discount_price'] = df_cleaned['discount_price'].apply(clean_price)\n"
     ]
    },
    {
     "name": "stdout",
     "output_type": "stream",
     "text": [
      "datatypes before\n",
      ":Unnamed: 0         int64\n",
      "name              object\n",
      "main_category     object\n",
      "sub_category      object\n",
      "image             object\n",
      "link              object\n",
      "ratings           object\n",
      "no_of_ratings     object\n",
      "discount_price    object\n",
      "actual_price      object\n",
      "dtype: object\n"
     ]
    },
    {
     "name": "stderr",
     "output_type": "stream",
     "text": [
      "C:\\Users\\almud\\AppData\\Local\\Temp\\ipykernel_8556\\3067807385.py:6: SettingWithCopyWarning: \n",
      "A value is trying to be set on a copy of a slice from a DataFrame.\n",
      "Try using .loc[row_indexer,col_indexer] = value instead\n",
      "\n",
      "See the caveats in the documentation: https://pandas.pydata.org/pandas-docs/stable/user_guide/indexing.html#returning-a-view-versus-a-copy\n",
      "  df_cleaned['actual_price'] = df_cleaned['actual_price'].apply(clean_price)\n",
      "C:\\Users\\almud\\AppData\\Local\\Temp\\ipykernel_8556\\3067807385.py:7: SettingWithCopyWarning: \n",
      "A value is trying to be set on a copy of a slice from a DataFrame.\n",
      "Try using .loc[row_indexer,col_indexer] = value instead\n",
      "\n",
      "See the caveats in the documentation: https://pandas.pydata.org/pandas-docs/stable/user_guide/indexing.html#returning-a-view-versus-a-copy\n",
      "  df_cleaned['ratings'] = pd.to_numeric(df_cleaned['ratings'], errors='coerce')\n"
     ]
    },
    {
     "name": "stdout",
     "output_type": "stream",
     "text": [
      "datatypes after\n",
      ":Unnamed: 0          int64\n",
      "name               object\n",
      "main_category      object\n",
      "sub_category       object\n",
      "image              object\n",
      "link               object\n",
      "ratings           float64\n",
      "no_of_ratings     float64\n",
      "discount_price    float64\n",
      "actual_price      float64\n",
      "dtype: object\n",
      "\n",
      "Cleaned and Transformed DataFrame Rows: 340680\n"
     ]
    },
    {
     "name": "stderr",
     "output_type": "stream",
     "text": [
      "C:\\Users\\almud\\AppData\\Local\\Temp\\ipykernel_8556\\3067807385.py:8: SettingWithCopyWarning: \n",
      "A value is trying to be set on a copy of a slice from a DataFrame.\n",
      "Try using .loc[row_indexer,col_indexer] = value instead\n",
      "\n",
      "See the caveats in the documentation: https://pandas.pydata.org/pandas-docs/stable/user_guide/indexing.html#returning-a-view-versus-a-copy\n",
      "  df_cleaned['no_of_ratings'] = pd.to_numeric(df_cleaned['no_of_ratings'], errors='coerce')\n"
     ]
    }
   ],
   "source": [
    "print(f\"datatypes before\\n:{df_cleaned.dtypes}\")\n",
    "def clean_price(price):\n",
    " # Remove currency symbol and commas, then convert to float\n",
    " return float(price.replace('$', '').replace(',', ''))\n",
    "df_cleaned['discount_price'] = df_cleaned['discount_price'].apply(clean_price)\n",
    "df_cleaned['actual_price'] = df_cleaned['actual_price'].apply(clean_price)\n",
    "df_cleaned['ratings'] = pd.to_numeric(df_cleaned['ratings'], errors='coerce')\n",
    "df_cleaned['no_of_ratings'] = pd.to_numeric(df_cleaned['no_of_ratings'], errors='coerce')\n",
    "print(f\"datatypes after\\n:{df_cleaned.dtypes}\")\n",
    "print(f\"\\nCleaned and Transformed DataFrame Rows: {df_cleaned.shape[0]}\")\n"
   ]
  },
  {
   "cell_type": "markdown",
   "metadata": {},
   "source": [
    "## 6. Cluster Vector Database"
   ]
  },
  {
   "cell_type": "markdown",
   "metadata": {},
   "source": [
    "### 6.1 Create Products Collection in the cluster"
   ]
  },
  {
   "cell_type": "code",
   "execution_count": 14,
   "metadata": {},
   "outputs": [
    {
     "name": "stdout",
     "output_type": "stream",
     "text": [
      "Failed to create Product collection: Collection may not have been created properly.! Unexpected status code: 422, with response body: {'error': [{'message': 'class name Products already exists'}]}.\n"
     ]
    }
   ],
   "source": [
    "import weaviate.classes.config as wc\n",
    "properties = [\n",
    " wc.Property(name=\"name\", data_type=wc.DataType.TEXT),\n",
    " wc.Property(name=\"main_category\", data_type=wc.DataType.TEXT),\n",
    " wc.Property(name=\"sub_category\", data_type=wc.DataType.TEXT),\n",
    " wc.Property(name=\"image\", data_type=wc.DataType.TEXT, skip_vectorization=True),\n",
    " wc.Property(name=\"link\", data_type=wc.DataType.TEXT, skip_vectorization=True),\n",
    " wc.Property(name=\"ratings\", data_type=wc.DataType.NUMBER, skip_vectorization=True),\n",
    " wc.Property(name=\"no_of_ratings\", data_type=wc.DataType.NUMBER,skip_vectorization=True),\n",
    " wc.Property(name=\"discount_price\", data_type=wc.DataType.NUMBER,skip_vectorization=True),\n",
    " wc.Property(name=\"actual_price\", data_type=wc.DataType.NUMBER,skip_vectorization=True),\n",
    "]\n",
    "# Create the Product collection in Weaviate\n",
    "try:\n",
    " client.collections.create(\n",
    " name=\"Products\",\n",
    " properties=properties,\n",
    " vectorizer_config=wc.Configure.Vectorizer.text2vec_openai()\n",
    " )\n",
    " print(\"Product collection created successfully.\")\n",
    " \n",
    "except Exception as e:\n",
    " print(f\"Failed to create Product collection: {e}\")"
   ]
  },
  {
   "cell_type": "markdown",
   "metadata": {},
   "source": [
    "### 6.2 Insert Products to Vector Database"
   ]
  },
  {
   "cell_type": "code",
   "execution_count": 15,
   "metadata": {},
   "outputs": [],
   "source": [
    "# Check if the collection is created in our cluster.\n",
    "# Since the dataset is large, with approximately ~340,000 entries, we will filter it s\n",
    "# pecifically to include only grocery products and then sample 1000 products from this filtered subset.\n",
    "\n",
    "df_filtered = df_cleaned[df_cleaned['main_category'] == 'grocery & gourmet foods']\n",
    "df_sampled = df_filtered.sample(n = 1000)\n"
   ]
  },
  {
   "cell_type": "code",
   "execution_count": 16,
   "metadata": {},
   "outputs": [
    {
     "name": "stderr",
     "output_type": "stream",
     "text": [
      "100%|██████████| 1000/1000 [00:05<00:00, 168.08it/s]\n"
     ]
    },
    {
     "name": "stderr",
     "output_type": "stream",
     "text": [
      "{'message': 'Failed to send 7 objects in a batch of 48. Please inspect client.batch.failed_objects or collection.batch.failed_objects for the failed objects.'}\n",
      "{'message': 'Failed to send 3 objects in a batch of 43. Please inspect client.batch.failed_objects or collection.batch.failed_objects for the failed objects.'}\n",
      "{'message': 'Failed to send 9 objects in a batch of 48. Please inspect client.batch.failed_objects or collection.batch.failed_objects for the failed objects.'}\n",
      "{'message': 'Failed to send 5 objects in a batch of 48. Please inspect client.batch.failed_objects or collection.batch.failed_objects for the failed objects.'}\n",
      "{'message': 'Failed to send 8 objects in a batch of 48. Please inspect client.batch.failed_objects or collection.batch.failed_objects for the failed objects.'}\n",
      "{'message': 'Failed to send 6 objects in a batch of 48. Please inspect client.batch.failed_objects or collection.batch.failed_objects for the failed objects.'}\n",
      "{'message': 'Failed to send 9 objects in a batch of 48. Please inspect client.batch.failed_objects or collection.batch.failed_objects for the failed objects.'}\n",
      "{'message': 'Failed to send 6 objects in a batch of 48. Please inspect client.batch.failed_objects or collection.batch.failed_objects for the failed objects.'}\n",
      "{'message': 'Failed to send 17 objects in a batch of 96. Please inspect client.batch.failed_objects or collection.batch.failed_objects for the failed objects.'}\n",
      "{'message': 'Failed to send 13 objects in a batch of 96. Please inspect client.batch.failed_objects or collection.batch.failed_objects for the failed objects.'}\n",
      "{'message': 'Failed to send 13 objects in a batch of 144. Please inspect client.batch.failed_objects or collection.batch.failed_objects for the failed objects.'}\n",
      "{'message': 'Failed to send 18 objects in a batch of 141. Please inspect client.batch.failed_objects or collection.batch.failed_objects for the failed objects.'}\n",
      "{'message': 'Failed to send 23 objects in a batch of 144. Please inspect client.batch.failed_objects or collection.batch.failed_objects for the failed objects.'}\n"
     ]
    }
   ],
   "source": [
    "from weaviate.util import generate_uuid5\n",
    "products = client.collections.get(\"Products\")\n",
    "# Enter context manager\n",
    "with products.batch.dynamic() as batch:\n",
    "    # Loop through the data\n",
    "    for i, product in tqdm(df_sampled.iterrows(), total=df_sampled.shape[0]):\n",
    "        # Build the object payload\n",
    "        product_obj = {\n",
    "            \"name\": product[\"name\"],\n",
    "            \"main_category\": product[\"main_category\"],\n",
    "            \"sub_category\": product[\"sub_category\"],\n",
    "            \"image\": product[\"image\"],\n",
    "            \"link\": product[\"link\"],\n",
    "            \"ratings\": product[\"ratings\"],\n",
    "            \"no_of_ratings\": product[\"no_of_ratings\"],\n",
    "            \"discount_price\": product[\"discount_price\"],\n",
    "            \"actual_price\": product[\"actual_price\"],\n",
    "        }\n",
    "        # Add object to batch queue\n",
    "        batch.add_object(\n",
    "            properties=product_obj,\n",
    "            uuid=generate_uuid5(product[\"link\"])\n",
    "        )\n",
    "        # Check for failed objects\n",
    "        if len(products.batch.failed_objects) > 0:\n",
    "            print(f\"Failed to import {len(products.batch.failed_objects)} objects\")"
   ]
  },
  {
   "cell_type": "code",
   "execution_count": null,
   "metadata": {},
   "outputs": [],
   "source": [
    "products = client.collections.get(\"Products\")\n",
    "for item in products.iterator(include_vector=True):\n",
    " print(item.uuid, item.properties, item.vector)"
   ]
  },
  {
   "cell_type": "markdown",
   "metadata": {},
   "source": [
    "## 7. Hybrid Search in Weaviate"
   ]
  },
  {
   "cell_type": "markdown",
   "metadata": {},
   "source": [
    "Hybrid search typically refers to a search strategy that integrates multiple search methodologies or technologies to deliver more thorough and precise results. Weaviate employs sparse and dense vectors to capture the semantic meaning and context of search queries and documents."
   ]
  },
  {
   "cell_type": "markdown",
   "metadata": {},
   "source": [
    "Currently, Weaviate’s implementation of hybrid search combines BM25/BM25F with vector search. Since we want the best of both worlds from the recommender system, we will use hybrid search. In Weaviate, implementing hybrid search is just one line of code away.\n",
    "\n"
   ]
  },
  {
   "cell_type": "code",
   "execution_count": 18,
   "metadata": {},
   "outputs": [],
   "source": [
    "import weaviate.classes.query as wq\n",
    "products = client.collections.get(\"Products\")\n",
    "# Perform the query\n",
    "query = \"chicken noodles\"\n",
    "response = products.query.hybrid( query=query, limit=5, return_metadata=wq.MetadataQuery(score=True))"
   ]
  },
  {
   "cell_type": "code",
   "execution_count": 41,
   "metadata": {},
   "outputs": [
    {
     "name": "stdout",
     "output_type": "stream",
     "text": [
      "Nongshim Shin Kimchi Instant Noodle Cup, 2.65 oz / 75 g 1.3 1.23 https://m.media-amazon.com/images/I/81LSfIHpKdL._AC_UL320_.jpg\n",
      "Hybrid score: 0.869\n",
      "\n",
      "Samyang Carbo Hot Chicken Flavour Raman Cup Noodles, 70mg*4 Pack (Pack of 4) (Imported) 6.43 5.94 https://m.media-amazon.com/images/I/51EN1zzpl8S._AC_UL320_.jpg\n",
      "Hybrid score: 0.815\n",
      "\n",
      "Sam Yang Carbo & Cheese Hot Chicken Flavour Raman Cup Noodles, 70 grams*2 Pack (Pack of 2) (Imported) 7.13 3.81 https://m.media-amazon.com/images/W/IMAGERENDERING_521856-T2/images/I/618GOoLaVnL._AC_UL320_.jpg\n",
      "Hybrid score: 0.656\n",
      "\n",
      "Samyang Hot Chicken Buldak Carbonara Noodles, 130 grams 3.56 2.02 https://m.media-amazon.com/images/I/817eoiBIqiL._AC_UL320_.jpg\n",
      "Hybrid score: 0.508\n",
      "\n",
      "Typhoo Green Tea Lemon & Honey - 25 Heat Sealed enveloped Tea Bags (Pack of 2) 5.0 3.44 https://m.media-amazon.com/images/I/71GX6NkAbXL._AC_UL320_.jpg\n",
      "Hybrid score: 0.416\n",
      "\n"
     ]
    }
   ],
   "source": [
    "# View the results:\n",
    "for item in response.objects:\n",
    "    print(item.properties[\"name\"], item.properties[\"actual_price\"], item.properties[\"discount_price\"], item.properties[\"image\"])\n",
    "    # Print the hybrid search score of the object from the query\n",
    "    print(f\"Hybrid score: {item.metadata.score:.3f}\\n\") "
   ]
  },
  {
   "cell_type": "code",
   "execution_count": 42,
   "metadata": {},
   "outputs": [
    {
     "data": {
      "text/html": [
       "<table border=\"1\" class=\"dataframe\">\n",
       "  <thead>\n",
       "    <tr style=\"text-align: right;\">\n",
       "      <th>Name</th>\n",
       "      <th>Image</th>\n",
       "      <th>Score</th>\n",
       "      <th>Actual Price</th>\n",
       "      <th>Discount Price</th>\n",
       "    </tr>\n",
       "  </thead>\n",
       "  <tbody>\n",
       "    <tr>\n",
       "      <td>Nongshim Shin Kimchi Instant Noodle Cup, 2.65 oz / 75 g</td>\n",
       "      <td><img src=\"https://m.media-amazon.com/images/I/81LSfIHpKdL._AC_UL320_.jpg\" width=\"100\"/></td>\n",
       "      <td>0.869456</td>\n",
       "      <td>1.30</td>\n",
       "      <td>1.23</td>\n",
       "    </tr>\n",
       "    <tr>\n",
       "      <td>Samyang Carbo Hot Chicken Flavour Raman Cup Noodles, 70mg*4 Pack (Pack of 4) (Imported)</td>\n",
       "      <td><img src=\"https://m.media-amazon.com/images/I/51EN1zzpl8S._AC_UL320_.jpg\" width=\"100\"/></td>\n",
       "      <td>0.814904</td>\n",
       "      <td>6.43</td>\n",
       "      <td>5.94</td>\n",
       "    </tr>\n",
       "    <tr>\n",
       "      <td>Sam Yang Carbo & Cheese Hot Chicken Flavour Raman Cup Noodles, 70 grams*2 Pack (Pack of 2) (Imported)</td>\n",
       "      <td><img src=\"https://m.media-amazon.com/images/W/IMAGERENDERING_521856-T2/images/I/618GOoLaVnL._AC_UL320_.jpg\" width=\"100\"/></td>\n",
       "      <td>0.655780</td>\n",
       "      <td>7.13</td>\n",
       "      <td>3.81</td>\n",
       "    </tr>\n",
       "    <tr>\n",
       "      <td>Samyang Hot Chicken Buldak Carbonara Noodles, 130 grams</td>\n",
       "      <td><img src=\"https://m.media-amazon.com/images/I/817eoiBIqiL._AC_UL320_.jpg\" width=\"100\"/></td>\n",
       "      <td>0.508032</td>\n",
       "      <td>3.56</td>\n",
       "      <td>2.02</td>\n",
       "    </tr>\n",
       "    <tr>\n",
       "      <td>Typhoo Green Tea Lemon & Honey - 25 Heat Sealed enveloped Tea Bags (Pack of 2)</td>\n",
       "      <td><img src=\"https://m.media-amazon.com/images/I/71GX6NkAbXL._AC_UL320_.jpg\" width=\"100\"/></td>\n",
       "      <td>0.415906</td>\n",
       "      <td>5.00</td>\n",
       "      <td>3.44</td>\n",
       "    </tr>\n",
       "  </tbody>\n",
       "</table>"
      ],
      "text/plain": [
       "<IPython.core.display.HTML object>"
      ]
     },
     "execution_count": 42,
     "metadata": {},
     "output_type": "execute_result"
    }
   ],
   "source": [
    "import pandas as pd\n",
    "from IPython.display import HTML\n",
    "\n",
    "# Example data\n",
    "data = []\n",
    "\n",
    "# Collecting the data from your response\n",
    "for item in response.objects:\n",
    "    name = item.properties[\"name\"]\n",
    "    actual_price = item.properties[\"actual_price\"]\n",
    "    discount_price = item.properties[\"discount_price\"]\n",
    "    image_url = item.properties[\"image\"]\n",
    "    score = item.metadata.score\n",
    "    \n",
    "    # Append a dictionary to the data list\n",
    "    data.append({\n",
    "        \"Name\": name,\n",
    "        \"Image\": f'<img src=\"{image_url}\" width=\"100\"/>',  # HTML image tag\n",
    "        \"Score\": score,\n",
    "        \"Actual Price\": actual_price,\n",
    "        \"Discount Price\": discount_price,\n",
    "    })\n",
    "\n",
    "# Create a DataFrame\n",
    "df = pd.DataFrame(data)\n",
    "\n",
    "# Display the DataFrame as HTML\n",
    "HTML(df.to_html(escape=False, index=False))\n"
   ]
  },
  {
   "cell_type": "markdown",
   "metadata": {},
   "source": [
    "## 8. Suggestions from OpenAI\n"
   ]
  },
  {
   "cell_type": "markdown",
   "metadata": {},
   "source": [
    "In this section, we will use LLM as a knowledge base to suggest items to the users. In the code snippet below, we will provide the query to the gpt-3.5-turbo to generate suggestions from it. The prompt is given as follows:\n",
    "\n"
   ]
  },
  {
   "cell_type": "markdown",
   "metadata": {},
   "source": [
    "### 8.1 Prompt setup"
   ]
  },
  {
   "cell_type": "code",
   "execution_count": 43,
   "metadata": {},
   "outputs": [],
   "source": [
    "prompt = \"\\\n",
    "    You are an expert in \\\n",
    "    recommending grocery and gourmet food products. Based on the following query, \\\n",
    "    provide a list of high-quality grocery and gourmet food items that would be ideal for the customer.\\\n",
    "    Just provide the names of products in JSON. Key of it is rec_prod while values are in the list.\\\n",
    "\""
   ]
  },
  {
   "cell_type": "markdown",
   "metadata": {},
   "source": [
    "The prompt and query are provided to the chat model, and the type is restricted to JSON objects for easier access in Python.\n",
    "\n"
   ]
  },
  {
   "cell_type": "code",
   "execution_count": 44,
   "metadata": {},
   "outputs": [],
   "source": [
    "from openai import OpenAI\n",
    "client = OpenAI()\n",
    "completion = client.chat.completions.create(\n",
    " model=\"gpt-3.5-turbo\",\n",
    " messages=[\n",
    " {\"role\": \"system\", \"content\": prompt},\n",
    " {\"role\": \"user\", \"content\": f\"Query: {query} \\n\" }\n",
    " ],\n",
    " response_format={ \"type\": \"json_object\" }\n",
    ")\n",
    "# Extract and print the recommendations\n",
    "recommendations = completion.choices[0].message"
   ]
  },
  {
   "cell_type": "code",
   "execution_count": 45,
   "metadata": {},
   "outputs": [
    {
     "data": {
      "text/plain": [
       "{'rec_prod': ['Organic Chicken Noodle Soup',\n",
       "  'Homemade Chicken Noodle Soup Mix',\n",
       "  'Artisanal Egg Noodles',\n",
       "  'Soba Noodles',\n",
       "  'Spicy Chicken Ramen Noodles']}"
      ]
     },
     "execution_count": 45,
     "metadata": {},
     "output_type": "execute_result"
    }
   ],
   "source": [
    "#The following code converts a string dictionary into the dictionary\n",
    "import ast\n",
    "rec_obj = ast.literal_eval(recommendations.content)\n",
    "rec_obj"
   ]
  },
  {
   "cell_type": "code",
   "execution_count": 47,
   "metadata": {},
   "outputs": [
    {
     "name": "stdout",
     "output_type": "stream",
     "text": [
      "Samyang Carbo Hot Chicken Flavour Raman Cup Noodles, 70mg*4 Pack (Pack of 4) (Imported) 6.43 5.94 https://m.media-amazon.com/images/I/51EN1zzpl8S._AC_UL320_.jpg\n",
      "Hybrid score: 0.934\n",
      "\n",
      "Samyang Hot Chicken Buldak Carbonara Noodles, 130 grams 3.56 2.02 https://m.media-amazon.com/images/I/817eoiBIqiL._AC_UL320_.jpg\n",
      "Hybrid score: 0.905\n",
      "\n",
      "Sam Yang Carbo & Cheese Hot Chicken Flavour Raman Cup Noodles, 70 grams*2 Pack (Pack of 2) (Imported) 7.13 3.81 https://m.media-amazon.com/images/W/IMAGERENDERING_521856-T2/images/I/618GOoLaVnL._AC_UL320_.jpg\n",
      "Hybrid score: 0.810\n",
      "\n",
      "Top Ramen Cup Noodles Italiano, 70g 0.6 0.49 https://m.media-amazon.com/images/I/91NtaMEIFoL._AC_UL320_.jpg\n",
      "Hybrid score: 0.722\n",
      "\n",
      "Indomie Instant Noodles Chicken Flavour-Pack of 20 6.9 6.61 https://m.media-amazon.com/images/I/61ZlxKR3C6L._AC_UL320_.jpg\n",
      "Hybrid score: 0.721\n",
      "\n"
     ]
    }
   ],
   "source": [
    "#Rec_obj holds the suggestions but not the real products; let’s ask our database to fetch a similar one\n",
    "query = \"chicken noodles\"\n",
    "response = products.query.hybrid(\n",
    " query=rec_obj['rec_prod'][-1], limit=5, return_metadata=wq.MetadataQuery(score=True)\n",
    ")\n",
    "for o in response.objects:\n",
    "    print(o.properties[\"name\"], o.properties[\"actual_price\"], o.properties[\"discount_price\"], o.properties[\"image\"])\n",
    "    print(f\"Hybrid score: {o.metadata.score:.3f}\\n\")"
   ]
  },
  {
   "cell_type": "code",
   "execution_count": 48,
   "metadata": {},
   "outputs": [
    {
     "data": {
      "text/html": [
       "<table border=\"1\" class=\"dataframe\">\n",
       "  <thead>\n",
       "    <tr style=\"text-align: right;\">\n",
       "      <th>Name</th>\n",
       "      <th>Image</th>\n",
       "      <th>Score</th>\n",
       "      <th>Actual Price</th>\n",
       "      <th>Discount Price</th>\n",
       "    </tr>\n",
       "  </thead>\n",
       "  <tbody>\n",
       "    <tr>\n",
       "      <td>Samyang Carbo Hot Chicken Flavour Raman Cup Noodles, 70mg*4 Pack (Pack of 4) (Imported)</td>\n",
       "      <td><img src=\"https://m.media-amazon.com/images/I/51EN1zzpl8S._AC_UL320_.jpg\" width=\"100\"/></td>\n",
       "      <td>0.933647</td>\n",
       "      <td>6.43</td>\n",
       "      <td>5.94</td>\n",
       "    </tr>\n",
       "    <tr>\n",
       "      <td>Samyang Hot Chicken Buldak Carbonara Noodles, 130 grams</td>\n",
       "      <td><img src=\"https://m.media-amazon.com/images/I/817eoiBIqiL._AC_UL320_.jpg\" width=\"100\"/></td>\n",
       "      <td>0.904690</td>\n",
       "      <td>3.56</td>\n",
       "      <td>2.02</td>\n",
       "    </tr>\n",
       "    <tr>\n",
       "      <td>Sam Yang Carbo & Cheese Hot Chicken Flavour Raman Cup Noodles, 70 grams*2 Pack (Pack of 2) (Imported)</td>\n",
       "      <td><img src=\"https://m.media-amazon.com/images/W/IMAGERENDERING_521856-T2/images/I/618GOoLaVnL._AC_UL320_.jpg\" width=\"100\"/></td>\n",
       "      <td>0.809984</td>\n",
       "      <td>7.13</td>\n",
       "      <td>3.81</td>\n",
       "    </tr>\n",
       "    <tr>\n",
       "      <td>Top Ramen Cup Noodles Italiano, 70g</td>\n",
       "      <td><img src=\"https://m.media-amazon.com/images/I/91NtaMEIFoL._AC_UL320_.jpg\" width=\"100\"/></td>\n",
       "      <td>0.722482</td>\n",
       "      <td>0.60</td>\n",
       "      <td>0.49</td>\n",
       "    </tr>\n",
       "    <tr>\n",
       "      <td>Indomie Instant Noodles Chicken Flavour-Pack of 20</td>\n",
       "      <td><img src=\"https://m.media-amazon.com/images/I/61ZlxKR3C6L._AC_UL320_.jpg\" width=\"100\"/></td>\n",
       "      <td>0.720561</td>\n",
       "      <td>6.90</td>\n",
       "      <td>6.61</td>\n",
       "    </tr>\n",
       "  </tbody>\n",
       "</table>"
      ],
      "text/plain": [
       "<IPython.core.display.HTML object>"
      ]
     },
     "execution_count": 48,
     "metadata": {},
     "output_type": "execute_result"
    }
   ],
   "source": [
    "import pandas as pd\n",
    "from IPython.display import HTML\n",
    "\n",
    "# Example data\n",
    "data = []\n",
    "\n",
    "# Collecting the data from your response\n",
    "for item in response.objects:\n",
    "    name = item.properties[\"name\"]\n",
    "    actual_price = item.properties[\"actual_price\"]\n",
    "    discount_price = item.properties[\"discount_price\"]\n",
    "    image_url = item.properties[\"image\"]\n",
    "    score = item.metadata.score\n",
    "    \n",
    "    # Append a dictionary to the data list\n",
    "    data.append({\n",
    "        \"Name\": name,\n",
    "        \"Image\": f'<img src=\"{image_url}\" width=\"100\"/>',  # HTML image tag\n",
    "        \"Score\": score,\n",
    "        \"Actual Price\": actual_price,\n",
    "        \"Discount Price\": discount_price,\n",
    "    })\n",
    "\n",
    "# Create a DataFrame\n",
    "df = pd.DataFrame(data)\n",
    "\n",
    "# Display the DataFrame as HTML\n",
    "HTML(df.to_html(escape=False, index=False))\n"
   ]
  },
  {
   "cell_type": "markdown",
   "metadata": {},
   "source": [
    "This can be problematic if the product catalog is limited and the recommendations from the recommendation system are too narrow, potentially not aligning with the user’s preferences. Here, we can use Weaviate’s nearObject feature. The nearObject operator helps find objects in Weaviate that are most similar to an existing object."
   ]
  },
  {
   "cell_type": "code",
   "execution_count": 50,
   "metadata": {},
   "outputs": [],
   "source": [
    "# Perform the query\n",
    "query = \"chicken noodles\"\n",
    "response_near = products.query.near_object(near_object=response.objects[0].uuid, limit=5)"
   ]
  },
  {
   "cell_type": "markdown",
   "metadata": {},
   "source": [
    "## 9. Refferences\n"
   ]
  },
  {
   "cell_type": "markdown",
   "metadata": {},
   "source": [
    "https://medium.com/@haziqa5122/recommender-system-using-llms-and-vector-databases-03fa90e850d1"
   ]
  }
 ],
 "metadata": {
  "kernelspec": {
   "display_name": "Python 3",
   "language": "python",
   "name": "python3"
  },
  "language_info": {
   "codemirror_mode": {
    "name": "ipython",
    "version": 3
   },
   "file_extension": ".py",
   "mimetype": "text/x-python",
   "name": "python",
   "nbconvert_exporter": "python",
   "pygments_lexer": "ipython3",
   "version": "3.10.11"
  }
 },
 "nbformat": 4,
 "nbformat_minor": 2
}
